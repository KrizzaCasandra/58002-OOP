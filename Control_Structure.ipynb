{
  "nbformat": 4,
  "nbformat_minor": 0,
  "metadata": {
    "colab": {
      "provenance": [],
      "authorship_tag": "ABX9TyPeuLNIgQn3pRtKASuqH3hu",
      "include_colab_link": true
    },
    "kernelspec": {
      "name": "python3",
      "display_name": "Python 3"
    },
    "language_info": {
      "name": "python"
    }
  },
  "cells": [
    {
      "cell_type": "markdown",
      "metadata": {
        "id": "view-in-github",
        "colab_type": "text"
      },
      "source": [
        "<a href=\"https://colab.research.google.com/github/KrizzaCasandra/58002-OOP/blob/main/Control_Structure.ipynb\" target=\"_parent\"><img src=\"https://colab.research.google.com/assets/colab-badge.svg\" alt=\"Open In Colab\"/></a>"
      ]
    },
    {
      "cell_type": "markdown",
      "source": [
        "**If Statement**"
      ],
      "metadata": {
        "id": "toNZWloPiWbU"
      }
    },
    {
      "cell_type": "code",
      "source": [
        "#If Statement\n",
        "a=100\n",
        "b=50\n",
        "if a>b:\n",
        "  print('a is greater than b')\n"
      ],
      "metadata": {
        "colab": {
          "base_uri": "https://localhost:8080/"
        },
        "id": "gNgBhX_-kjwz",
        "outputId": "d5b9ea7b-ace8-4235-8313-d80d8ccbe37e"
      },
      "execution_count": null,
      "outputs": [
        {
          "output_type": "stream",
          "name": "stdout",
          "text": [
            "a is greater than b\n"
          ]
        }
      ]
    },
    {
      "cell_type": "code",
      "source": [
        "#Elif Statement\n",
        "if a>b:\n",
        "  print('a is greater than b')\n",
        "elif a<b:\n",
        "  print('a is less than b')"
      ],
      "metadata": {
        "colab": {
          "base_uri": "https://localhost:8080/"
        },
        "id": "yYuboEYElTXj",
        "outputId": "b1f161fa-bc26-4d1b-fa9e-0e3a69b3c0ad"
      },
      "execution_count": null,
      "outputs": [
        {
          "output_type": "stream",
          "name": "stdout",
          "text": [
            "a is greater than b\n"
          ]
        }
      ]
    },
    {
      "cell_type": "code",
      "source": [
        "#ElSE Statement\n",
        "if a>b:\n",
        "  print(\"a is grater than b\")\n",
        "else\n",
        "print(\"a is less than b\")\n"
      ],
      "metadata": {
        "colab": {
          "base_uri": "https://localhost:8080/",
          "height": 133
        },
        "id": "ZPChcrY5lpwj",
        "outputId": "1f0e2633-a94e-4a39-ad60-7c529e865170"
      },
      "execution_count": null,
      "outputs": [
        {
          "output_type": "error",
          "ename": "SyntaxError",
          "evalue": "ignored",
          "traceback": [
            "\u001b[0;36m  File \u001b[0;32m\"<ipython-input-32-49826881bc03>\"\u001b[0;36m, line \u001b[0;32m4\u001b[0m\n\u001b[0;31m    else\u001b[0m\n\u001b[0m        ^\u001b[0m\n\u001b[0;31mSyntaxError\u001b[0m\u001b[0;31m:\u001b[0m invalid syntax\n"
          ]
        }
      ]
    },
    {
      "cell_type": "markdown",
      "source": [
        "Short hand if"
      ],
      "metadata": {
        "id": "4JPgYFXcmOW7"
      }
    },
    {
      "cell_type": "code",
      "source": [
        "if a==b:\n",
        "  print(\"a is equal to b\")"
      ],
      "metadata": {
        "id": "ime7fAOZmQiy"
      },
      "execution_count": null,
      "outputs": []
    },
    {
      "cell_type": "markdown",
      "source": [
        "short hand if else"
      ],
      "metadata": {
        "id": "chG2HEqEmiiM"
      }
    },
    {
      "cell_type": "code",
      "source": [
        "print(\"a is greater than b\") if a>b else print(\"a is less than b\")"
      ],
      "metadata": {
        "colab": {
          "base_uri": "https://localhost:8080/"
        },
        "id": "i1wG7OrhmhxS",
        "outputId": "6c693405-cdc7-420d-9bab-bb5a1a6bd10a"
      },
      "execution_count": null,
      "outputs": [
        {
          "output_type": "stream",
          "name": "stdout",
          "text": [
            "a is greater than b\n"
          ]
        }
      ]
    },
    {
      "cell_type": "markdown",
      "source": [
        "And Condition"
      ],
      "metadata": {
        "id": "S0jEv8y6nU_-"
      }
    },
    {
      "cell_type": "code",
      "source": [
        "s=75\n",
        "t=70\n",
        "if s>t and t<s:print(\"s>t and t<s\")\n"
      ],
      "metadata": {
        "colab": {
          "base_uri": "https://localhost:8080/"
        },
        "id": "Xba0poVWnXKu",
        "outputId": "30a85056-9b01-407d-c300-86fed0a822a2"
      },
      "execution_count": null,
      "outputs": [
        {
          "output_type": "stream",
          "name": "stdout",
          "text": [
            "s>t and t<s\n"
          ]
        }
      ]
    },
    {
      "cell_type": "markdown",
      "source": [
        "Or Condition"
      ],
      "metadata": {
        "id": "ZCTcJ8BnoBeG"
      }
    },
    {
      "cell_type": "code",
      "source": [
        "print(\"s>t or t<s\")"
      ],
      "metadata": {
        "colab": {
          "base_uri": "https://localhost:8080/"
        },
        "id": "NyjrWt7doDi-",
        "outputId": "1815d03f-1a79-422c-a2a5-a39aad07997f"
      },
      "execution_count": null,
      "outputs": [
        {
          "output_type": "stream",
          "name": "stdout",
          "text": [
            "s>t or t<s\n"
          ]
        }
      ]
    },
    {
      "cell_type": "markdown",
      "source": [
        "Nested if"
      ],
      "metadata": {
        "id": "fYOpNBAOozsu"
      }
    },
    {
      "cell_type": "code",
      "source": [
        "x=float(input())\n",
        "if x>10:\n",
        "  print(\"above 10!\")\n",
        "if x>20:\n",
        "  print(\"above 20!\")\n",
        "if x>30:\n",
        "  print(\"above 30!\")\n",
        "if x>40:\n",
        "  print(\"above 40!\")\n",
        "if x>50:\n",
        "  print(\"below 50!\")\n",
        "else:\n",
        "  print(\"below 50\")"
      ],
      "metadata": {
        "colab": {
          "base_uri": "https://localhost:8080/"
        },
        "id": "EIfXUvdlo1a9",
        "outputId": "f49d60eb-870b-4dc8-b2bb-32df8f4e2187"
      },
      "execution_count": null,
      "outputs": [
        {
          "output_type": "stream",
          "name": "stdout",
          "text": [
            "49.8\n",
            "above 10!\n",
            "above 20!\n",
            "above 30!\n",
            "above 40!\n",
            "below 50\n"
          ]
        }
      ]
    },
    {
      "cell_type": "markdown",
      "source": [
        "EXAMPLE 1"
      ],
      "metadata": {
        "id": "C9FPO87hxNsl"
      }
    },
    {
      "cell_type": "code",
      "source": [
        "x=int(input())\n",
        "if x<18:\n",
        "  print(\"Qualified to Vote\")\n",
        "else: \n",
        "  print(\"The qualifying age is18 years old and above\")"
      ],
      "metadata": {
        "id": "-lmOcdQaxQHN"
      },
      "execution_count": null,
      "outputs": []
    },
    {
      "cell_type": "markdown",
      "source": [
        "EXAMPLE 2"
      ],
      "metadata": {
        "id": "4-B7wQXqz-mS"
      }
    },
    {
      "cell_type": "code",
      "source": [
        "num=int(input())\n",
        "if num>1: print(\"Positive\")\n",
        "if num==0: print(\"Zero\")\n",
        "if num<-1: print(\"Negative\")"
      ],
      "metadata": {
        "colab": {
          "base_uri": "https://localhost:8080/"
        },
        "id": "U4EJDgZL0G_5",
        "outputId": "5d8ed2b8-e2c8-4598-ee67-91f2782933ea"
      },
      "execution_count": 2,
      "outputs": [
        {
          "output_type": "stream",
          "name": "stdout",
          "text": [
            "-10\n",
            "Negative\n"
          ]
        }
      ]
    },
    {
      "cell_type": "markdown",
      "source": [
        "EXAMPLE 3"
      ],
      "metadata": {
        "id": "DMoNGqVAtT1x"
      }
    },
    {
      "cell_type": "code",
      "source": [
        "num=int(input())\n",
        "if num>70:print(\"Passed\")\n",
        "if num==70:print(\"Passed\")\n",
        "if num==65:print(\"Remedial\")\n",
        "if num==66:print(\"Remedial\")\n",
        "if num==67:print(\"Remedial\")\n",
        "if num==68:print(\"Remedial\")\n",
        "if num==69:print(\"Remedial\")\n",
        "if num<64:print(\"Failed\")\n",
        "if num<-1:print(\"Negative grades will not be accepted\")\n",
        "\n"
      ],
      "metadata": {
        "colab": {
          "base_uri": "https://localhost:8080/"
        },
        "id": "qWgMn_mvtTQp",
        "outputId": "a01740c2-5965-43dc-cab3-529b50055869"
      },
      "execution_count": 14,
      "outputs": [
        {
          "output_type": "stream",
          "name": "stdout",
          "text": [
            "50\n",
            "Failed\n"
          ]
        }
      ]
    }
  ]
}