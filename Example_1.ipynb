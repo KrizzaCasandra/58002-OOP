{
  "nbformat": 4,
  "nbformat_minor": 0,
  "metadata": {
    "colab": {
      "provenance": [],
      "authorship_tag": "ABX9TyOLkqGoEL3pOhPmbcRBUAen",
      "include_colab_link": true
    },
    "kernelspec": {
      "name": "python3",
      "display_name": "Python 3"
    },
    "language_info": {
      "name": "python"
    }
  },
  "cells": [
    {
      "cell_type": "markdown",
      "metadata": {
        "id": "view-in-github",
        "colab_type": "text"
      },
      "source": [
        "<a href=\"https://colab.research.google.com/github/KrizzaCasandra/58002-OOP/blob/main/Example_1.ipynb\" target=\"_parent\"><img src=\"https://colab.research.google.com/assets/colab-badge.svg\" alt=\"Open In Colab\"/></a>"
      ]
    },
    {
      "cell_type": "markdown",
      "source": [
        "1. Start\n",
        "2.Input the length of the rectangle (length)\n",
        "3.Input the width of the rectangle (width)\n",
        "4. Calculate the area using the formula: area = length * width\n",
        "5.Print \"The area of the rectangle is:\", area\n",
        "6. Stop"
      ],
      "metadata": {
        "id": "nvWi7H0LDgqU"
      }
    },
    {
      "cell_type": "code",
      "source": [
        "\n",
        "#Area of Rectangle\n",
        "\n",
        "width=5\n",
        "height=10\n",
        "\n",
        "area=width*height\n",
        "\n",
        "print(\"The Area of rectangle is \"+str(area))"
      ],
      "metadata": {
        "colab": {
          "base_uri": "https://localhost:8080/"
        },
        "id": "jvnO_TynEfhr",
        "outputId": "436f86a8-03c2-4b4c-cd42-266fe3ee7ae7"
      },
      "execution_count": 9,
      "outputs": [
        {
          "output_type": "stream",
          "name": "stdout",
          "text": [
            "The Area of rectangle is 50\n"
          ]
        }
      ]
    }
  ]
}