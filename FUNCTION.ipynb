{
  "nbformat": 4,
  "nbformat_minor": 0,
  "metadata": {
    "colab": {
      "provenance": [],
      "authorship_tag": "ABX9TyMxXJdM8sbNV22lOA2vFAEX",
      "include_colab_link": true
    },
    "kernelspec": {
      "name": "python3",
      "display_name": "Python 3"
    },
    "language_info": {
      "name": "python"
    }
  },
  "cells": [
    {
      "cell_type": "markdown",
      "metadata": {
        "id": "view-in-github",
        "colab_type": "text"
      },
      "source": [
        "<a href=\"https://colab.research.google.com/github/KrizzaCasandra/58002-OOP/blob/main/FUNCTION.ipynb\" target=\"_parent\"><img src=\"https://colab.research.google.com/assets/colab-badge.svg\" alt=\"Open In Colab\"/></a>"
      ]
    },
    {
      "cell_type": "code",
      "execution_count": 14,
      "metadata": {
        "colab": {
          "base_uri": "https://localhost:8080/",
          "height": 133
        },
        "id": "jMgfsEwdzduw",
        "outputId": "a350d0e8-c721-40b4-e7a2-5391d6a20bb2"
      },
      "outputs": [
        {
          "output_type": "error",
          "ename": "SyntaxError",
          "evalue": "ignored",
          "traceback": [
            "\u001b[0;36m  File \u001b[0;32m\"<ipython-input-14-8d166874e22c>\"\u001b[0;36m, line \u001b[0;32m6\u001b[0m\n\u001b[0;31m    def area_rec(self)\u001b[0m\n\u001b[0m                      ^\u001b[0m\n\u001b[0;31mSyntaxError\u001b[0m\u001b[0;31m:\u001b[0m invalid syntax\n"
          ]
        }
      ],
      "source": [
        "class shape:\n",
        "  def __int__(self,length,width):\n",
        "    self.length=length\n",
        "    self.width=width\n",
        "    self.side=side\n",
        "    def area_rec(self)\n",
        "    return self.length*self.width\n",
        "    def area_sqr(self):\n",
        "      return self.side*self.side\n",
        "\n",
        "rectangle=shape(10,5)\n",
        "rectangle.area rec()"
      ]
    },
    {
      "cell_type": "markdown",
      "source": [
        "create a function that will display your full name and name your class as a person"
      ],
      "metadata": {
        "id": "RRufEj7P3aQG"
      }
    },
    {
      "cell_type": "code",
      "source": [
        "def personal_details():\n",
        "    name = \"Plaza, Ma. Krizza Casandra\"\n",
        "    print(\"Name: {}\".format(name))\n",
        "\n",
        "personal_details()"
      ],
      "metadata": {
        "colab": {
          "base_uri": "https://localhost:8080/"
        },
        "id": "a53aGYRB3nnd",
        "outputId": "9578a841-28af-4ada-e8ea-bb356677d410"
      },
      "execution_count": 24,
      "outputs": [
        {
          "output_type": "stream",
          "name": "stdout",
          "text": [
            "Name: Plaza, Ma. Krizza Casandra\n"
          ]
        }
      ]
    }
  ]
}