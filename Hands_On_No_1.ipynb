{
  "nbformat": 4,
  "nbformat_minor": 0,
  "metadata": {
    "colab": {
      "provenance": [],
      "authorship_tag": "ABX9TyOljFwTrrB85nObWcBr4OdQ",
      "include_colab_link": true
    },
    "kernelspec": {
      "name": "python3",
      "display_name": "Python 3"
    },
    "language_info": {
      "name": "python"
    }
  },
  "cells": [
    {
      "cell_type": "markdown",
      "metadata": {
        "id": "view-in-github",
        "colab_type": "text"
      },
      "source": [
        "<a href=\"https://colab.research.google.com/github/KrizzaCasandra/58002-OOP/blob/main/Hands_On_No_1.ipynb\" target=\"_parent\"><img src=\"https://colab.research.google.com/assets/colab-badge.svg\" alt=\"Open In Colab\"/></a>"
      ]
    },
    {
      "cell_type": "code",
      "source": [
        "#Create a python program that display the name of the students (student 1, student 2, student 3) and the term grades\n",
        "#Create a class name person and attributes- std1, std2, std3, pre,mid, final\n",
        "#Compute the average of each term grade using Grade()method\n",
        "#Information about the student must be hidden from others\n",
        "\n",
        "class Person:\n",
        "    def __init__(self, std1, std2, std3, prelim, midterm, finals):\n",
        "        self.__std1 = std1\n",
        "        self.__std2 = std2\n",
        "        self.__std3 = std3\n",
        "        self.__prelim = prelim\n",
        "        self.__midterm = midterm\n",
        "        self.__finals = finals\n",
        "\n",
        "    def Grade(self):\n",
        "        return (self.__prelim + self.__midterm + self.__finals) / 3\n",
        "\n",
        "    def display1(self):\n",
        "        print(self.__std1, self.Grade(), \"\\n\")\n",
        "\n",
        "    def display2(self):\n",
        "        print(self.__std2, self.Grade(), \"\\n\")\n",
        "\n",
        "    def display3(self):\n",
        "        print(self.__std3, self.Grade())\n",
        "\n",
        "\n",
        "class student3(Person):\n",
        "    term_grade = Person(\"Average of Student 3 =\", 0, 0, \n",
        "                        float(input(\"Prelim Grade: \")), \n",
        "                        float(input(\"Midterm Grade: \")),\n",
        "                        float(input(\"Final Grade: \")))\n",
        "    term_grade.display1()\n",
        "\n",
        "\n",
        "class student2(Person):\n",
        "    term_grade = Person(0, \"Average of Student 2 =\", 0, \n",
        "                        float(input(\"Prelim Grade: \")), \n",
        "                        float(input(\"Midterm Grade: \")),\n",
        "                        float(input(\"Final Grade: \")))\n",
        "    term_grade.display2()\n",
        "\n",
        "\n",
        "class student1(Person):\n",
        "    term_grade = Person(0, 0, \"Average of Student 1 =\", \n",
        "                        float(input(\"Prelim Grade: \")),\n",
        "                        float(input(\"Midterm Grade: \")), \n",
        "                        float(input(\"Final Grade: \")))\n",
        "    term_grade.display3()\n"
      ],
      "metadata": {
        "colab": {
          "base_uri": "https://localhost:8080/"
        },
        "id": "0nV9Ic-7DdS1",
        "outputId": "1c2ddf32-9548-4425-b649-a00b31780f3b"
      },
      "execution_count": null,
      "outputs": [
        {
          "output_type": "stream",
          "name": "stdout",
          "text": [
            "Prelim Grade: 48\n",
            "Midterm Grade: 90\n",
            "Final Grade: 77\n",
            "Average of Student 3 = 71.66666666666667 \n",
            "\n",
            "Prelim Grade: 89\n",
            "Midterm Grade: 100\n",
            "Final Grade: 77\n",
            "Average of Student 2 = 88.66666666666667 \n",
            "\n",
            "Prelim Grade: 56\n",
            "Midterm Grade: 89\n",
            "Final Grade: 100\n",
            "Average of Student 1 = 81.66666666666667\n"
          ]
        }
      ]
    }
  ]
}