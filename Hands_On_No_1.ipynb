{
  "nbformat": 4,
  "nbformat_minor": 0,
  "metadata": {
    "colab": {
      "provenance": [],
      "authorship_tag": "ABX9TyNmg3Flt74agSnR1vX/efpt",
      "include_colab_link": true
    },
    "kernelspec": {
      "name": "python3",
      "display_name": "Python 3"
    },
    "language_info": {
      "name": "python"
    }
  },
  "cells": [
    {
      "cell_type": "markdown",
      "metadata": {
        "id": "view-in-github",
        "colab_type": "text"
      },
      "source": [
        "<a href=\"https://colab.research.google.com/github/KrizzaCasandra/58002-OOP/blob/main/Hands_On_No_1.ipynb\" target=\"_parent\"><img src=\"https://colab.research.google.com/assets/colab-badge.svg\" alt=\"Open In Colab\"/></a>"
      ]
    },
    {
      "cell_type": "code",
      "source": [
        "class Person:\n",
        "    def __init__(self, std1, std2, std3, prelim, midterm, finals):\n",
        "        self.__std1 = std1\n",
        "        self.__std2 = std2\n",
        "        self.__std3 = std3\n",
        "        self.__prelim = prelim\n",
        "        self.__midterm = midterm\n",
        "        self.__finals = finals\n",
        "\n",
        "    def Grade(self):\n",
        "        return (self.__prelim + self.__midterm + self.__finals) / 3\n",
        "\n",
        "    def display1(self):\n",
        "        print(self.__std1, self.Grade(), \"\\n\")\n",
        "\n",
        "    def display2(self):\n",
        "        print(self.__std2, self.Grade(), \"\\n\")\n",
        "\n",
        "    def display3(self):\n",
        "        print(self.__std3, self.Grade())\n",
        "\n",
        "\n",
        "class student1(Person):\n",
        "    term_grade = Person(\"Average of Student 1 =\", 0, 0, \n",
        "                        float(input(\"Grade in Prelims: \")), \n",
        "                        float(input(\"Grade in Midterm: \")),\n",
        "                        float(input(\"Grade in Finals: \")))\n",
        "    term_grade.display1()\n",
        "\n",
        "\n",
        "class student2(Person):\n",
        "    term_grade = Person(0, \"Average of Student 2 =\", 0, \n",
        "                        float(input(\"Grade in Prelim: \")), \n",
        "                        float(input(\"Grade in Midterm: \")),\n",
        "                        float(input(\"Grade in Finals: \")))\n",
        "    term_grade.display2()\n",
        "\n",
        "\n",
        "class student3(Person):\n",
        "    term_grade = Person(0, 0, \"Average of Student 3 =\", \n",
        "                        float(input(\"Grade in Prelim: \")),\n",
        "                        float(input(\"Grade in Midterm: \")), \n",
        "                        float(input(\"Grade in Finals: \")))\n",
        "    term_grade.display3()"
      ],
      "metadata": {
        "colab": {
          "base_uri": "https://localhost:8080/"
        },
        "id": "H79XwSdvV7ic",
        "outputId": "bb4bed7d-cb74-47ee-d3d3-0396bd9309e9"
      },
      "execution_count": 108,
      "outputs": [
        {
          "output_type": "stream",
          "name": "stdout",
          "text": [
            "Grade in Prelims: 48\n",
            "Grade in Midterm: 77\n",
            "Grade in Finals: 90\n",
            "Average of Student 1 = 71.66666666666667 \n",
            "\n",
            "Grade in Prelim: 55\n",
            "Grade in Midterm: 90\n",
            "Grade in Finals: 67\n",
            "Average of Student 2 = 70.66666666666667 \n",
            "\n",
            "Grade in Prelim: 97\n",
            "Grade in Midterm: 88\n",
            "Grade in Finals: 100\n",
            "Average of Student 3 = 95.0\n"
          ]
        }
      ]
    }
  ]
}