{
  "nbformat": 4,
  "nbformat_minor": 0,
  "metadata": {
    "colab": {
      "provenance": [],
      "authorship_tag": "ABX9TyODU+0PFeKTA0vxpDhZRw2m",
      "include_colab_link": true
    },
    "kernelspec": {
      "name": "python3",
      "display_name": "Python 3"
    },
    "language_info": {
      "name": "python"
    }
  },
  "cells": [
    {
      "cell_type": "markdown",
      "metadata": {
        "id": "view-in-github",
        "colab_type": "text"
      },
      "source": [
        "<a href=\"https://colab.research.google.com/github/KrizzaCasandra/58002-OOP/blob/main/LOOP_STATEMENT.ipynb\" target=\"_parent\"><img src=\"https://colab.research.google.com/assets/colab-badge.svg\" alt=\"Open In Colab\"/></a>"
      ]
    },
    {
      "cell_type": "markdown",
      "source": [],
      "metadata": {
        "id": "O3OZKCi3mD7V"
      }
    },
    {
      "cell_type": "code",
      "source": [
        "week = [\"Sunday\", \"Monday\", \"Tuesday\", \"Wednesday\",\"Thursday\", \"Friday\", \"Saturday\"]\n",
        "for x in week:\n",
        "  print(x)"
      ],
      "metadata": {
        "colab": {
          "base_uri": "https://localhost:8080/"
        },
        "id": "0GBwVumQmDLG",
        "outputId": "56095c20-4b66-4bcf-c120-ad943d245f94"
      },
      "execution_count": 2,
      "outputs": [
        {
          "output_type": "stream",
          "name": "stdout",
          "text": [
            "Sunday\n",
            "Monday\n",
            "Tuesday\n",
            "Wednesday\n",
            "Thursday\n",
            "Friday\n",
            "Saturday\n"
          ]
        }
      ]
    },
    {
      "cell_type": "markdown",
      "source": [
        " **FOR LOOP STATEMENT**"
      ],
      "metadata": {
        "id": "hYrGchrjmcc_"
      }
    },
    {
      "cell_type": "code",
      "source": [
        "week = [\"Sunday\", \"Monday\", \"Tuesday\", \"Wednesday\",\"Thursday\", \"Friday\", \"Saturday\"]\n",
        "for x in week:\n",
        "   print(x)\n",
        "   if x==\"Thursday\":\n",
        "     break"
      ],
      "metadata": {
        "colab": {
          "base_uri": "https://localhost:8080/"
        },
        "id": "wKwSebJcmeU_",
        "outputId": "4750bc3e-cdac-4b54-b093-4fed6657a84e"
      },
      "execution_count": 8,
      "outputs": [
        {
          "output_type": "stream",
          "name": "stdout",
          "text": [
            "Sunday\n",
            "Monday\n",
            "Tuesday\n",
            "Wednesday\n",
            "Thursday\n"
          ]
        }
      ]
    },
    {
      "cell_type": "markdown",
      "source": [
        "**for loop through string**"
      ],
      "metadata": {
        "id": "TMnIh2CwocXp"
      }
    },
    {
      "cell_type": "code",
      "source": [
        "for x in  \"week\":\n",
        "  print(x)"
      ],
      "metadata": {
        "colab": {
          "base_uri": "https://localhost:8080/"
        },
        "id": "aagRpU83ojSF",
        "outputId": "2688c144-6818-4738-a2cd-80273ffbdf19"
      },
      "execution_count": 5,
      "outputs": [
        {
          "output_type": "stream",
          "name": "stdout",
          "text": [
            "w\n",
            "e\n",
            "e\n",
            "k\n"
          ]
        }
      ]
    },
    {
      "cell_type": "markdown",
      "source": [
        "for loop using break statement"
      ],
      "metadata": {
        "id": "qpo6CA7Now4h"
      }
    },
    {
      "cell_type": "code",
      "source": [
        "for x in week: \n",
        "if x == \"Thursday\":\n",
        "print(x)\n",
        "break"
      ],
      "metadata": {
        "colab": {
          "base_uri": "https://localhost:8080/",
          "height": 133
        },
        "id": "5hS5u8H1prYm",
        "outputId": "6aad58e9-f8df-432d-ac36-3284fae659a1"
      },
      "execution_count": 19,
      "outputs": [
        {
          "output_type": "error",
          "ename": "IndentationError",
          "evalue": "ignored",
          "traceback": [
            "\u001b[0;36m  File \u001b[0;32m\"<ipython-input-19-45af5a19207b>\"\u001b[0;36m, line \u001b[0;32m2\u001b[0m\n\u001b[0;31m    if x == \"Thursday\":\u001b[0m\n\u001b[0m    ^\u001b[0m\n\u001b[0;31mIndentationError\u001b[0m\u001b[0;31m:\u001b[0m expected an indented block\n"
          ]
        }
      ]
    },
    {
      "cell_type": "markdown",
      "source": [
        "RANGE FUNCTION"
      ],
      "metadata": {
        "id": "Z-Wb5bTrpts3"
      }
    },
    {
      "cell_type": "code",
      "source": [
        "for x in range(6):print(x)"
      ],
      "metadata": {
        "colab": {
          "base_uri": "https://localhost:8080/"
        },
        "id": "8_Tp7pxepwG-",
        "outputId": "79c298f8-342a-4981-95f7-717c6edfff69"
      },
      "execution_count": 20,
      "outputs": [
        {
          "output_type": "stream",
          "name": "stdout",
          "text": [
            "0\n",
            "1\n",
            "2\n",
            "3\n",
            "4\n",
            "5\n"
          ]
        }
      ]
    },
    {
      "cell_type": "code",
      "source": [
        "for x in range(2, 6):print(x)"
      ],
      "metadata": {
        "colab": {
          "base_uri": "https://localhost:8080/"
        },
        "id": "7Fv_AOfCp6y-",
        "outputId": "35d84cd3-db1e-41e1-f851-7abcd37e085c"
      },
      "execution_count": 21,
      "outputs": [
        {
          "output_type": "stream",
          "name": "stdout",
          "text": [
            "2\n",
            "3\n",
            "4\n",
            "5\n"
          ]
        }
      ]
    },
    {
      "cell_type": "markdown",
      "source": [
        "NESTED LOOP"
      ],
      "metadata": {
        "id": "fT6xRa7Cp-9l"
      }
    },
    {
      "cell_type": "code",
      "source": [
        "adjective = [\"red\", \"big\", \"tasty\"]\n",
        "fruits = [\"apple\", \"banana\", \"cherry\"]\n",
        "for x in adjective:\n",
        "  for y in fruits:\n",
        "    print(x, y)"
      ],
      "metadata": {
        "colab": {
          "base_uri": "https://localhost:8080/"
        },
        "id": "045OgVruqBQO",
        "outputId": "e474d26d-8d22-4ec1-b781-12803f11a0aa"
      },
      "execution_count": 25,
      "outputs": [
        {
          "output_type": "stream",
          "name": "stdout",
          "text": [
            "red apple\n",
            "red banana\n",
            "red cherry\n",
            "big apple\n",
            "big banana\n",
            "big cherry\n",
            "tasty apple\n",
            "tasty banana\n",
            "tasty cherry\n"
          ]
        }
      ]
    },
    {
      "cell_type": "markdown",
      "source": [
        "WHILE STATEMENT"
      ],
      "metadata": {
        "id": "RwluPUw1qYjl"
      }
    },
    {
      "cell_type": "code",
      "source": [
        "i = 1\n",
        "while i < 6:\n",
        "  print(i)i += 1 #i = i+1 Assignment operator"
      ],
      "metadata": {
        "colab": {
          "base_uri": "https://localhost:8080/",
          "height": 133
        },
        "id": "Y3_bfDwtqale",
        "outputId": "24132216-97f7-45cc-d395-875b3be48e11"
      },
      "execution_count": 35,
      "outputs": [
        {
          "output_type": "error",
          "ename": "SyntaxError",
          "evalue": "ignored",
          "traceback": [
            "\u001b[0;36m  File \u001b[0;32m\"<ipython-input-35-a5fcab256636>\"\u001b[0;36m, line \u001b[0;32m2\u001b[0m\n\u001b[0;31m    while i < 6:print(i)i += 1 #i = i+1 Assignment operator\u001b[0m\n\u001b[0m                        ^\u001b[0m\n\u001b[0;31mSyntaxError\u001b[0m\u001b[0;31m:\u001b[0m invalid syntax\n"
          ]
        }
      ]
    },
    {
      "cell_type": "markdown",
      "source": [
        "CONTINUE STATEMENT"
      ],
      "metadata": {
        "id": "CHelwUvJq029"
      }
    },
    {
      "cell_type": "code",
      "source": [
        "i = 0\n",
        "while i < 6:i += 1if i == 3:\n",
        "  continue\n",
        "  print(i)"
      ],
      "metadata": {
        "colab": {
          "base_uri": "https://localhost:8080/",
          "height": 133
        },
        "id": "4tmEsaQJrZo2",
        "outputId": "4abc17dc-043e-4f99-9f5a-48967bdaa125"
      },
      "execution_count": 34,
      "outputs": [
        {
          "output_type": "error",
          "ename": "SyntaxError",
          "evalue": "ignored",
          "traceback": [
            "\u001b[0;36m  File \u001b[0;32m\"<ipython-input-34-8b8e9cfba1ef>\"\u001b[0;36m, line \u001b[0;32m1\u001b[0m\n\u001b[0;31m    i = 0while i < 6:i += 1if i == 3:continueprint(i)\u001b[0m\n\u001b[0m         ^\u001b[0m\n\u001b[0;31mSyntaxError\u001b[0m\u001b[0;31m:\u001b[0m invalid syntax\n"
          ]
        }
      ]
    },
    {
      "cell_type": "markdown",
      "source": [
        "**APPLICATION 1**"
      ],
      "metadata": {
        "id": "FRf1jaOHsn4o"
      }
    },
    {
      "cell_type": "code",
      "source": [
        "hello = [\"hello 0\", \"hello 1\",\"hello 2\",\"hello 3\",\"hello 4\",\"hello 5\",\"hello 6\",\"hello 7\",\"hello 8\",\"hello 9\",\"hello 10\"]\n",
        "for x in hello:\n",
        "  print(x)\n",
        "  "
      ],
      "metadata": {
        "colab": {
          "base_uri": "https://localhost:8080/"
        },
        "id": "rtJvJ_JAspzP",
        "outputId": "7681d8d2-f197-48a7-da12-4bf575136152"
      },
      "execution_count": 48,
      "outputs": [
        {
          "output_type": "stream",
          "name": "stdout",
          "text": [
            "hello 0\n",
            "hello 1\n",
            "hello 2\n",
            "hello 3\n",
            "hello 4\n",
            "hello 5\n",
            "hello 6\n",
            "hello 7\n",
            "hello 8\n",
            "hello 9\n",
            "hello 10\n"
          ]
        }
      ]
    },
    {
      "cell_type": "markdown",
      "source": [
        "**APPLICATION 2**"
      ],
      "metadata": {
        "id": "0qsn5L5IwbWL"
      }
    },
    {
      "cell_type": "code",
      "source": [
        "for x in range(3,10):\n",
        " print(x)\n",
        "else:\n",
        "  print(\"x is less than 10 but not less than 3\")"
      ],
      "metadata": {
        "colab": {
          "base_uri": "https://localhost:8080/",
          "height": 133
        },
        "id": "lb2rZiBvxR_8",
        "outputId": "b98bd256-56e2-4dc8-ea75-c9e47ec077b0"
      },
      "execution_count": 69,
      "outputs": [
        {
          "output_type": "error",
          "ename": "SyntaxError",
          "evalue": "ignored",
          "traceback": [
            "\u001b[0;36m  File \u001b[0;32m\"<ipython-input-69-f80ca7b83580>\"\u001b[0;36m, line \u001b[0;32m1\u001b[0m\n\u001b[0;31m    for x in range(3,10)\u001b[0m\n\u001b[0m                        ^\u001b[0m\n\u001b[0;31mSyntaxError\u001b[0m\u001b[0;31m:\u001b[0m invalid syntax\n"
          ]
        }
      ]
    }
  ]
}