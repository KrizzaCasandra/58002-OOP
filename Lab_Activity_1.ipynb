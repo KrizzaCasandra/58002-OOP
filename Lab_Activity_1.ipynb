{
  "nbformat": 4,
  "nbformat_minor": 0,
  "metadata": {
    "colab": {
      "provenance": [],
      "authorship_tag": "ABX9TyPIBRR37T2qNsoxVze7jzUZ",
      "include_colab_link": true
    },
    "kernelspec": {
      "name": "python3",
      "display_name": "Python 3"
    },
    "language_info": {
      "name": "python"
    }
  },
  "cells": [
    {
      "cell_type": "markdown",
      "metadata": {
        "id": "view-in-github",
        "colab_type": "text"
      },
      "source": [
        "<a href=\"https://colab.research.google.com/github/KrizzaCasandra/58002-OOP/blob/main/Lab_Activity_1.ipynb\" target=\"_parent\"><img src=\"https://colab.research.google.com/assets/colab-badge.svg\" alt=\"Open In Colab\"/></a>"
      ]
    },
    {
      "cell_type": "code",
      "execution_count": 13,
      "metadata": {
        "colab": {
          "base_uri": "https://localhost:8080/"
        },
        "id": "C6SYE1a0o7Hd",
        "outputId": "5a6132a1-0069-4cf9-f011-a6a98a555c0c"
      },
      "outputs": [
        {
          "output_type": "stream",
          "name": "stdout",
          "text": [
            "sum= 210\n",
            "Average= 10.5\n"
          ]
        }
      ],
      "source": [
        "n=20\n",
        "totalnumbers=n\n",
        "sum=0\n",
        "average=0\n",
        "\n",
        "while n>=0:\n",
        "  sum+=n\n",
        "  n-=1\n",
        "print(\"sum=\", sum)\n",
        "average=sum/totalnumbers\n",
        "print(\"Average=\",average)"
      ]
    }
  ]
}