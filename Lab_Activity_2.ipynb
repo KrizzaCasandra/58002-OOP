{
  "nbformat": 4,
  "nbformat_minor": 0,
  "metadata": {
    "colab": {
      "provenance": [],
      "authorship_tag": "ABX9TyPUpSRnPxQgROTRjG5z2waR",
      "include_colab_link": true
    },
    "kernelspec": {
      "name": "python3",
      "display_name": "Python 3"
    },
    "language_info": {
      "name": "python"
    }
  },
  "cells": [
    {
      "cell_type": "markdown",
      "metadata": {
        "id": "view-in-github",
        "colab_type": "text"
      },
      "source": [
        "<a href=\"https://colab.research.google.com/github/KrizzaCasandra/58002-OOP/blob/main/Lab_Activity_2.ipynb\" target=\"_parent\"><img src=\"https://colab.research.google.com/assets/colab-badge.svg\" alt=\"Open In Colab\"/></a>"
      ]
    },
    {
      "cell_type": "code",
      "execution_count": 91,
      "metadata": {
        "colab": {
          "base_uri": "https://localhost:8080/"
        },
        "id": "duXFxW1scYWx",
        "outputId": "69f5fb80-9fae-4f10-9dd1-b4be959eb85e"
      },
      "outputs": [
        {
          "output_type": "stream",
          "name": "stdout",
          "text": [
            "This is the work of Ma. Krizza Casandra Plaza\n",
            "Enter radius of circle: 9\n",
            "Area of circle: 254.47\n",
            "Perimeter of circle: 56.55\n"
          ]
        }
      ],
      "source": [
        "#Write a Python program that asks the user to enter the radius of a circle and solve its area and perimeter.\n",
        "#Create a class name Circle allowing you to build a circle with radius and pi attributes.\n",
        "#Create a method Display() the perimeter and area using an instantiation of a class.\n",
        "#Create a Perimeter() method to calculate the perimeter of the circle and an Area() method to calculate the area of ​​the circle.\n",
        "import math\n",
        "class circle():\n",
        "    def __init__(self,radius):\n",
        "        self.radius=radius\n",
        "    def area(self):\n",
        "        return math.pi*(self.radius**2)\n",
        "    def perimeter(self):\n",
        "        return 2*math.pi*self.radius\n",
        "\n",
        "print(\"This is the work of Ma. Krizza Casandra Plaza\")\n",
        "r=int(input(\"Enter radius of circle: \"))\n",
        "obj=circle(r)\n",
        "print(\"Area of circle:\",round(obj.area(),2))\n",
        "print(\"Perimeter of circle:\",round(obj.perimeter(),2))\n",
        "\n",
        "\n"
      ]
    }
  ]
}