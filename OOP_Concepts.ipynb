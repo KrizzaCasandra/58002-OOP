{
  "nbformat": 4,
  "nbformat_minor": 0,
  "metadata": {
    "colab": {
      "provenance": [],
      "authorship_tag": "ABX9TyOjbgEzknBIHkYNTzpZGTzk",
      "include_colab_link": true
    },
    "kernelspec": {
      "name": "python3",
      "display_name": "Python 3"
    },
    "language_info": {
      "name": "python"
    }
  },
  "cells": [
    {
      "cell_type": "markdown",
      "metadata": {
        "id": "view-in-github",
        "colab_type": "text"
      },
      "source": [
        "<a href=\"https://colab.research.google.com/github/KrizzaCasandra/58002-OOP/blob/main/OOP_Concepts.ipynb\" target=\"_parent\"><img src=\"https://colab.research.google.com/assets/colab-badge.svg\" alt=\"Open In Colab\"/></a>"
      ]
    },
    {
      "cell_type": "code",
      "execution_count": 2,
      "metadata": {
        "colab": {
          "base_uri": "https://localhost:8080/"
        },
        "id": "Wf8uAbhVw9uj",
        "outputId": "ac6a79eb-6462-4e40-f47a-5a7feb4c2a9c"
      },
      "outputs": [
        {
          "output_type": "stream",
          "name": "stdout",
          "text": [
            "4\n"
          ]
        }
      ],
      "source": [
        "#Creation of Class\n",
        "\n",
        "class myClass:    #name of class\n",
        "  y=4             #poperty name\n",
        "\n",
        "p1=myClass()      #create an object named p1\n",
        "print(p1.y)       #print the value of y\n"
      ]
    },
    {
      "cell_type": "code",
      "source": [
        "class myclass:\n",
        "  pass"
      ],
      "metadata": {
        "id": "dwFcoy1Px2dO"
      },
      "execution_count": 3,
      "outputs": []
    },
    {
      "cell_type": "code",
      "source": [
        "from typing_extensions import AsyncGenerator\n",
        "#Creation of Method\n",
        "\n",
        "class Persons:\n",
        "  def __init__(self,name,age):\n",
        "    self.name = name\n",
        "    self.age = age\n",
        "  def myfunction(self):\n",
        "      print(\"Hello, My name is\", self.name)\n",
        "\n",
        "teacher=Persons(\"Maria\", 40)\n",
        "teacher.myfunction()"
      ],
      "metadata": {
        "colab": {
          "base_uri": "https://localhost:8080/"
        },
        "id": "egV5psB6yGOu",
        "outputId": "7ce0f847-a6f9-4534-cd6f-6410bc00cf07"
      },
      "execution_count": 9,
      "outputs": [
        {
          "output_type": "stream",
          "name": "stdout",
          "text": [
            "Hello, My name is Maria\n"
          ]
        }
      ]
    },
    {
      "cell_type": "code",
      "source": [
        "#Modification of Object Properties\n",
        "teacher.name=\"Ana\"\n",
        "teacher.myfunction()"
      ],
      "metadata": {
        "colab": {
          "base_uri": "https://localhost:8080/"
        },
        "id": "DPCl1xewzrWk",
        "outputId": "e9e5d29b-1799-47c4-c134-6363eae8dd3e"
      },
      "execution_count": 10,
      "outputs": [
        {
          "output_type": "stream",
          "name": "stdout",
          "text": [
            "Hello, My name is Ana\n"
          ]
        }
      ]
    },
    {
      "cell_type": "code",
      "source": [
        "#Deletion of Object Properties\n",
        "del teacher.age\n",
        "print(teacher.name)"
      ],
      "metadata": {
        "colab": {
          "base_uri": "https://localhost:8080/"
        },
        "id": "yTsr6j-6z22L",
        "outputId": "4aa18db6-5ed3-4511-ff89-afcd7aca25f5"
      },
      "execution_count": 11,
      "outputs": [
        {
          "output_type": "stream",
          "name": "stdout",
          "text": [
            "Ana\n"
          ]
        }
      ]
    },
    {
      "cell_type": "code",
      "source": [
        "class shapes:\n",
        "  def __init__(self,side):\n",
        "    self.side=side\n",
        "\n",
        "  def area(self):\n",
        "    return self.side*self.side\n",
        "\n",
        "  def display(self):\n",
        "    print(\"the area of the square is\", self.area() )\n",
        "\n",
        "square=shapes(5)\n",
        "print(square.area())\n",
        "print(square.display())"
      ],
      "metadata": {
        "colab": {
          "base_uri": "https://localhost:8080/"
        },
        "id": "x8-NBGj80sNY",
        "outputId": "8c532726-76c1-47d3-b06d-56de86413691"
      },
      "execution_count": 18,
      "outputs": [
        {
          "output_type": "stream",
          "name": "stdout",
          "text": [
            "25\n",
            "the area of the square is 25\n",
            "None\n"
          ]
        }
      ]
    },
    {
      "cell_type": "code",
      "source": [
        "class shapes:\n",
        "  def __init__(self,side1,side2):\n",
        "    self.side=side1\n",
        "    self.side=side2\n",
        "\n",
        "  def area(self):\n",
        "    return self.side1*self.side1\n",
        "\n",
        "  def display(self):\n",
        "    print(\"the area of the square is\", self.area() )\n",
        "\n",
        "square=shapes(5)\n",
        "rectangle=shapes(10,5)\n",
        "print(square.area_square())\n",
        "print(square.display())"
      ],
      "metadata": {
        "id": "-8ibEVxe3f9l"
      },
      "execution_count": null,
      "outputs": []
    },
    {
      "cell_type": "code",
      "source": [
        "# Crete your own python program that has the following:\n",
        "# Person as class name\n",
        "# full name, age , school as attribute\n",
        "# identity () as method to display your full name, age, and school\n",
        "# person\n",
        "\n",
        "from typing_extensions import AsyncGenerator\n",
        "#Creation of Method\n",
        "\n",
        "class Persons:\n",
        "  def __init__(self,name,age):\n",
        "    self.name = name\n",
        "    self.age = age\n",
        "  def myfunction(self):\n",
        "      print(\"Hello, My name is\", self.name)\n",
        "\n",
        "teacher=Persons(\"Ma. Krizza Casandra Plaza\", 18)\n",
        "teacher.myfunction()"
      ],
      "metadata": {
        "id": "jC3iNGJa-dYN"
      },
      "execution_count": null,
      "outputs": []
    }
  ]
}