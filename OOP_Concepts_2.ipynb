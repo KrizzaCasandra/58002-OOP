{
  "nbformat": 4,
  "nbformat_minor": 0,
  "metadata": {
    "colab": {
      "provenance": [],
      "authorship_tag": "ABX9TyP+B9GIvS1+i40WfTtrie0R",
      "include_colab_link": true
    },
    "kernelspec": {
      "name": "python3",
      "display_name": "Python 3"
    },
    "language_info": {
      "name": "python"
    }
  },
  "cells": [
    {
      "cell_type": "markdown",
      "metadata": {
        "id": "view-in-github",
        "colab_type": "text"
      },
      "source": [
        "<a href=\"https://colab.research.google.com/github/KrizzaCasandra/58002-OOP/blob/main/OOP_Concepts_2.ipynb\" target=\"_parent\"><img src=\"https://colab.research.google.com/assets/colab-badge.svg\" alt=\"Open In Colab\"/></a>"
      ]
    },
    {
      "cell_type": "code",
      "source": [
        "#Class with multiple objects\n",
        "\n",
        "class birds:\n",
        "  def __init__(self,name_birds):\n",
        "    self.name_birds=name_birds\n",
        "  def flying_birds(self):\n",
        "    print(f\" \"The {self.name_birds}is the flying bird above the sky\")\n",
        "  def non_flying_birds(self):\n",
        "    print(f\" \"The {self.name_birds}is the non flying birds above the sky\")\n",
        "eagle=birds(\"Eagle\")\n",
        "chicken=birds(\"Chicken\")\n",
        "eagle.flying_birds()\n",
        "chicken.non_flying_bird()"
      ],
      "metadata": {
        "colab": {
          "base_uri": "https://localhost:8080/",
          "height": 135
        },
        "id": "u9f4gnMG9PA5",
        "outputId": "4060c3b5-6102-443c-ac4d-31c01a1012b1"
      },
      "execution_count": 20,
      "outputs": [
        {
          "output_type": "error",
          "ename": "SyntaxError",
          "evalue": "ignored",
          "traceback": [
            "\u001b[0;36m  File \u001b[0;32m\"<ipython-input-20-a48de10ad19e>\"\u001b[0;36m, line \u001b[0;32m7\u001b[0m\n\u001b[0;31m    print(f\" \"The {self.name_birds} is the flying bird above the sky\")\u001b[0m\n\u001b[0m              ^\u001b[0m\n\u001b[0;31mSyntaxError\u001b[0m\u001b[0;31m:\u001b[0m invalid syntax\n"
          ]
        }
      ]
    },
    {
      "cell_type": "code",
      "source": [
        "#Encapsulation\n",
        "\n",
        "class foo:\n",
        "  def __init__(self,a,b):\n",
        "    self.__a=a\n",
        "    self.__b=b\n",
        "    def add(self):\n",
        "      return self.__a + self.__b\n",
        "    foo_object=foo(3,4)\n",
        "    foo_object.add()\n",
        "    foo_object.a=7\n",
        "    foo_object.add()"
      ],
      "metadata": {
        "id": "dBq5a52u7541"
      },
      "execution_count": 23,
      "outputs": []
    },
    {
      "cell_type": "code",
      "source": [
        "#inheritance\n",
        "\n",
        "class Person:\n",
        "  def __init__(self,name,birthday):\n",
        "    self.name=name\n",
        "    self.birthday=birthday\n",
        "  def display(self):\n",
        "    print(\"My name is\",self.name)\n",
        "    print(\"My Birthday is\",self.birthday)\n",
        "class Student(Person):\n",
        "  pass\n",
        "person=Person(\"Maria\",\"February 13, 1990\")\n",
        "person.display()\n",
        "\n",
        "student=Student(\"Ana\",\"March 14, 1991\")\n",
        "student.display()"
      ],
      "metadata": {
        "colab": {
          "base_uri": "https://localhost:8080/"
        },
        "id": "vpX9DbGjAs0Q",
        "outputId": "79e48923-97a3-47e4-a7f6-b3908bf6d606"
      },
      "execution_count": 30,
      "outputs": [
        {
          "output_type": "stream",
          "name": "stdout",
          "text": [
            "My name is Maria\n",
            "My Birthday is February 13, 1990\n",
            "My name is Ana\n",
            "My Birthday is March 14, 1991\n"
          ]
        }
      ]
    },
    {
      "cell_type": "code",
      "source": [
        "#create a class name shapes (5 shapes)\n",
        "#sttribute sides\n",
        "#create a func./method that displays the\n",
        "#no. of sides of each shape\n",
        "#apply inheritance and encapsulation\n",
        "\n",
        "class Shapes:\n",
        "    def __init__(self, sides):\n",
        "        self._sides = sides\n",
        "   \n",
        "\n",
        "class Circle(Shapes):\n",
        "    def __init__(self):\n",
        "        super().__init__(0)\n",
        "    def display_sides(self):\n",
        "        print(\"Number of sides of Circle is:\", self._sides)\n",
        "class Square(Shapes):\n",
        "    def __init__(self):\n",
        "        super().__init__(4)\n",
        "    def display_sides(self):\n",
        "        print(\"Number of sides of Square is:\", self._sides)\n",
        "class Triangle(Shapes):\n",
        "    def __init__(self):\n",
        "        super().__init__(3)\n",
        "    def display_sides(self):\n",
        "        print(\"Number of sides of Triangle is:\", self._sides)\n",
        "class Rhombus(Shapes):\n",
        "    def __init__(self):\n",
        "        super().__init__(4)\n",
        "    def display_sides(self):\n",
        "        print(\"Number of sides of Rhombus is:\", self._sides)\n",
        "class Pentagon(Shapes):\n",
        "    def __init__(self):\n",
        "        super().__init__(5)\n",
        "    def display_sides(self):\n",
        "        print(\"Number of sides of Pentagon is:\", self._sides)\n",
        "square = Square()\n",
        "square.display_sides()  # Number of sides: 4\n",
        "\n",
        "triangle = Triangle()\n",
        "triangle.display_sides()  # Number of sides: 3\n",
        "\n",
        "circle = Circle()\n",
        "circle.display_sides()  # Number of sides: 0\n",
        "\n",
        "pentagon = Pentagon()\n",
        "pentagon.display_sides()  # Number of sides: 5\n",
        "\n",
        "rhombus = Rhombus()\n",
        "rhombus.display_sides()  # Number of sides: 4"
      ],
      "metadata": {
        "colab": {
          "base_uri": "https://localhost:8080/"
        },
        "id": "IHnL8azICziQ",
        "outputId": "632232a1-1b6d-4884-88d5-e3c72f53ba9b"
      },
      "execution_count": 61,
      "outputs": [
        {
          "output_type": "stream",
          "name": "stdout",
          "text": [
            "Number of sides of Square is: 4\n",
            "Number of sides of Triangle is: 3\n",
            "Number of sides of Circle is: 0\n",
            "Number of sides of Pentagon is: 5\n",
            "Number of sides of Rhombus is: 4\n"
          ]
        }
      ]
    }
  ]
}