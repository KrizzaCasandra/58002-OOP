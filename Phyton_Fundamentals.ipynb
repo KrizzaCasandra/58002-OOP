{
  "nbformat": 4,
  "nbformat_minor": 0,
  "metadata": {
    "colab": {
      "provenance": [],
      "authorship_tag": "ABX9TyNFWF1ufu8RnGfcQg1J0c/m",
      "include_colab_link": true
    },
    "kernelspec": {
      "name": "python3",
      "display_name": "Python 3"
    },
    "language_info": {
      "name": "python"
    }
  },
  "cells": [
    {
      "cell_type": "markdown",
      "metadata": {
        "id": "view-in-github",
        "colab_type": "text"
      },
      "source": [
        "<a href=\"https://colab.research.google.com/github/KrizzaCasandra/58002-OOP/blob/main/Phyton_Fundamentals.ipynb\" target=\"_parent\"><img src=\"https://colab.research.google.com/assets/colab-badge.svg\" alt=\"Open In Colab\"/></a>"
      ]
    },
    {
      "cell_type": "markdown",
      "source": [
        "Python Indentation"
      ],
      "metadata": {
        "id": "8NuBAMo_wvkq"
      }
    },
    {
      "cell_type": "code",
      "source": [
        "if 5>2:\n",
        "  print(\"five is greater than two\")"
      ],
      "metadata": {
        "colab": {
          "base_uri": "https://localhost:8080/"
        },
        "id": "gDy7-LH2w1UJ",
        "outputId": "d6ee3721-91c6-49d7-c415-3037939d08b1"
      },
      "execution_count": 2,
      "outputs": [
        {
          "output_type": "stream",
          "name": "stdout",
          "text": [
            "five is greater than two\n"
          ]
        }
      ]
    },
    {
      "cell_type": "markdown",
      "source": [
        "Phython comment"
      ],
      "metadata": {
        "id": "2GdS5-sGx16y"
      }
    },
    {
      "cell_type": "code",
      "source": [
        "#This is a comment\n",
        "print(\"Hello World\")"
      ],
      "metadata": {
        "colab": {
          "base_uri": "https://localhost:8080/"
        },
        "id": "JGetIua9x4ra",
        "outputId": "f9d02cab-86d9-48aa-a95b-dd9f071c9682"
      },
      "execution_count": 4,
      "outputs": [
        {
          "output_type": "stream",
          "name": "stdout",
          "text": [
            "Hello World\n"
          ]
        }
      ]
    },
    {
      "cell_type": "markdown",
      "source": [
        "Naming Variable"
      ],
      "metadata": {
        "id": "mp9xOiJ1yMXS"
      }
    },
    {
      "cell_type": "code",
      "source": [
        "#Single Variable with Single Value\n",
        "x=1\n",
        "y=2\n",
        "print(x)\n",
        "print(y)\n",
        "\n",
        "#Multiple Variable with a single value\n",
        "\n",
        "a=b=c=\"Ma. Krizza Casandra Plaza\"\n",
        "print(a)\n",
        "print(b)\n",
        "print(c)"
      ],
      "metadata": {
        "colab": {
          "base_uri": "https://localhost:8080/"
        },
        "id": "xoejXuM5yRDK",
        "outputId": "e1d14bbb-387a-43b1-d056-c58f2c09109e"
      },
      "execution_count": 9,
      "outputs": [
        {
          "output_type": "stream",
          "name": "stdout",
          "text": [
            "1\n",
            "2\n",
            "Ma. Krizza Casandra Plaza\n",
            "Ma. Krizza Casandra Plaza\n",
            "Ma. Krizza Casandra Plaza\n"
          ]
        }
      ]
    }
  ]
}