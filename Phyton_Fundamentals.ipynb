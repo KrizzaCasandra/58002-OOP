{
  "nbformat": 4,
  "nbformat_minor": 0,
  "metadata": {
    "colab": {
      "provenance": [],
      "authorship_tag": "ABX9TyNjSaNlfUW0aoun84EzBqRo",
      "include_colab_link": true
    },
    "kernelspec": {
      "name": "python3",
      "display_name": "Python 3"
    },
    "language_info": {
      "name": "python"
    }
  },
  "cells": [
    {
      "cell_type": "markdown",
      "metadata": {
        "id": "view-in-github",
        "colab_type": "text"
      },
      "source": [
        "<a href=\"https://colab.research.google.com/github/KrizzaCasandra/58002-OOP/blob/main/Phyton_Fundamentals.ipynb\" target=\"_parent\"><img src=\"https://colab.research.google.com/assets/colab-badge.svg\" alt=\"Open In Colab\"/></a>"
      ]
    },
    {
      "cell_type": "markdown",
      "source": [
        "**Python Indentation**"
      ],
      "metadata": {
        "id": "8NuBAMo_wvkq"
      }
    },
    {
      "cell_type": "code",
      "source": [
        "if 5>2:\n",
        "  print(\"five is greater than two\")"
      ],
      "metadata": {
        "colab": {
          "base_uri": "https://localhost:8080/"
        },
        "id": "gDy7-LH2w1UJ",
        "outputId": "d6ee3721-91c6-49d7-c415-3037939d08b1"
      },
      "execution_count": 2,
      "outputs": [
        {
          "output_type": "stream",
          "name": "stdout",
          "text": [
            "five is greater than two\n"
          ]
        }
      ]
    },
    {
      "cell_type": "markdown",
      "source": [
        "**Phython comment**"
      ],
      "metadata": {
        "id": "2GdS5-sGx16y"
      }
    },
    {
      "cell_type": "code",
      "source": [
        "#This is a comment\n",
        "print(\"Hello World\")"
      ],
      "metadata": {
        "colab": {
          "base_uri": "https://localhost:8080/"
        },
        "id": "JGetIua9x4ra",
        "outputId": "f9d02cab-86d9-48aa-a95b-dd9f071c9682"
      },
      "execution_count": 4,
      "outputs": [
        {
          "output_type": "stream",
          "name": "stdout",
          "text": [
            "Hello World\n"
          ]
        }
      ]
    },
    {
      "cell_type": "markdown",
      "source": [
        "**Naming Variable**"
      ],
      "metadata": {
        "id": "mp9xOiJ1yMXS"
      }
    },
    {
      "cell_type": "code",
      "source": [
        "#Single Variable with Single Value\n",
        "x=1\n",
        "y=2\n",
        "print(x)\n",
        "print(y)\n",
        "\n",
        "#Multiple Variable with a single value\n",
        "\n",
        "a=b=c=\"Ma. Krizza Casandra Plaza\"\n",
        "print(a)\n",
        "print(b)\n",
        "print(c)\n",
        "\n",
        "#Multiple Variable with multiple values\n",
        "\n",
        "e,f, g=1,2,3\n",
        "print(e)\n",
        "print(f)\n",
        "print(g)\n"
      ],
      "metadata": {
        "colab": {
          "base_uri": "https://localhost:8080/"
        },
        "id": "xoejXuM5yRDK",
        "outputId": "70dced1a-ac86-48f4-9bc5-c8299481d1dc"
      },
      "execution_count": 10,
      "outputs": [
        {
          "output_type": "stream",
          "name": "stdout",
          "text": [
            "1\n",
            "2\n",
            "Ma. Krizza Casandra Plaza\n",
            "Ma. Krizza Casandra Plaza\n",
            "Ma. Krizza Casandra Plaza\n",
            "1\n",
            "2\n",
            "3\n"
          ]
        }
      ]
    },
    {
      "cell_type": "markdown",
      "source": [
        "**Single or Double**"
      ],
      "metadata": {
        "id": "gvaTZsYB05vL"
      }
    },
    {
      "cell_type": "code",
      "source": [
        "v=\"Krizza\"\n",
        "u='Krizza'\n",
        "print(u)\n",
        "print(v)"
      ],
      "metadata": {
        "colab": {
          "base_uri": "https://localhost:8080/"
        },
        "id": "ZI6HMRin020q",
        "outputId": "394d9c1d-d306-456a-be87-6bb5735d8309"
      },
      "execution_count": 11,
      "outputs": [
        {
          "output_type": "stream",
          "name": "stdout",
          "text": [
            "Krizza\n",
            "Krizza\n"
          ]
        }
      ]
    },
    {
      "cell_type": "markdown",
      "source": [
        "**Casting**"
      ],
      "metadata": {
        "id": "x1yjRQ3L1Doz"
      }
    },
    {
      "cell_type": "code",
      "source": [
        "p=float(5)\n",
        "p"
      ],
      "metadata": {
        "colab": {
          "base_uri": "https://localhost:8080/"
        },
        "id": "sX4esecp1E-j",
        "outputId": "3c834a13-a81d-43eb-a129-5a8159f84db5"
      },
      "execution_count": 13,
      "outputs": [
        {
          "output_type": "execute_result",
          "data": {
            "text/plain": [
              "5.0"
            ]
          },
          "metadata": {},
          "execution_count": 13
        }
      ]
    },
    {
      "cell_type": "markdown",
      "source": [
        "**Type( ) Function**"
      ],
      "metadata": {
        "id": "apxEZX0i1iO3"
      }
    },
    {
      "cell_type": "code",
      "source": [
        "f=\"Krizza\"\n",
        "g=2.56\n",
        "print(type(g))\n",
        "print(type(f))"
      ],
      "metadata": {
        "colab": {
          "base_uri": "https://localhost:8080/"
        },
        "id": "1B7AuE7-1ma_",
        "outputId": "54e869b4-11a7-489b-9232-1db5b0fcb9ab"
      },
      "execution_count": 16,
      "outputs": [
        {
          "output_type": "stream",
          "name": "stdout",
          "text": [
            "<class 'float'>\n",
            "<class 'str'>\n"
          ]
        }
      ]
    },
    {
      "cell_type": "markdown",
      "source": [
        "**Concatenation using + symbol**"
      ],
      "metadata": {
        "id": "7OAKj5Dx26vQ"
      }
    },
    {
      "cell_type": "code",
      "source": [
        "k=\"enjoying\"\n",
        "j=\"python programming is\"\n",
        "print(\"Python programming is\" +\" \" +k)\n",
        "print(j+k)"
      ],
      "metadata": {
        "colab": {
          "base_uri": "https://localhost:8080/",
          "height": 223
        },
        "id": "QmJmXXDZ3nuH",
        "outputId": "d6270d63-f89d-43ae-922b-dd9fb7d37945"
      },
      "execution_count": 32,
      "outputs": [
        {
          "output_type": "error",
          "ename": "TypeError",
          "evalue": "ignored",
          "traceback": [
            "\u001b[0;31m---------------------------------------------------------------------------\u001b[0m",
            "\u001b[0;31mTypeError\u001b[0m                                 Traceback (most recent call last)",
            "\u001b[0;32m<ipython-input-32-261af279e48c>\u001b[0m in \u001b[0;36m<module>\u001b[0;34m\u001b[0m\n\u001b[1;32m      1\u001b[0m \u001b[0mk\u001b[0m\u001b[0;34m=\u001b[0m\u001b[0;34m\"enjoying\"\u001b[0m\u001b[0;34m\u001b[0m\u001b[0;34m\u001b[0m\u001b[0m\n\u001b[1;32m      2\u001b[0m \u001b[0mj\u001b[0m\u001b[0;34m=\u001b[0m\u001b[0;34m\"python programming is\"\u001b[0m\u001b[0;34m\u001b[0m\u001b[0;34m\u001b[0m\u001b[0m\n\u001b[0;32m----> 3\u001b[0;31m \u001b[0mprint\u001b[0m\u001b[0;34m(\u001b[0m\u001b[0;34m\"Python programming is\"\u001b[0m \u001b[0;34m+\u001b[0m\u001b[0;34m\" \"\u001b[0m \u001b[0;34m+\u001b[0m\u001b[0mk\u001b[0m\u001b[0;34m)\u001b[0m\u001b[0;34m\u001b[0m\u001b[0;34m\u001b[0m\u001b[0m\n\u001b[0m\u001b[1;32m      4\u001b[0m \u001b[0mprint\u001b[0m\u001b[0;34m(\u001b[0m\u001b[0mj\u001b[0m\u001b[0;34m+\u001b[0m\u001b[0mk\u001b[0m\u001b[0;34m)\u001b[0m\u001b[0;34m\u001b[0m\u001b[0;34m\u001b[0m\u001b[0m\n",
            "\u001b[0;31mTypeError\u001b[0m: 'str' object is not callable"
          ]
        }
      ]
    }
  ]
}